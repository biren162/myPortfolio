{
 "cells": [
  {
   "cell_type": "markdown",
   "metadata": {},
   "source": [
    "## imports:"
   ]
  },
  {
   "cell_type": "code",
   "execution_count": 449,
   "metadata": {},
   "outputs": [
    {
     "name": "stdout",
     "output_type": "stream",
     "text": [
      "sk learn version: 0.21.2\n"
     ]
    }
   ],
   "source": [
    "import numpy as np\n",
    "import pandas as pd\n",
    "import seaborn as sb\n",
    "\n",
    "\n",
    "from sklearn import model_selection\n",
    "from sklearn.ensemble import RandomForestRegressor\n",
    "from sklearn.metrics import mean_squared_error\n",
    "#from sklearn.model_selection import train_test_split\n",
    "\n",
    "\n",
    "from sklearn.svm import SVR\n",
    "from sklearn.svm import SVC\n",
    "from sklearn.preprocessing import StandardScaler\n",
    "from sklearn.neighbors import KNeighborsClassifier\n",
    "\n",
    "import xgboost as xgb\n",
    "\n",
    "print ('sk learn version:',sklearn.__version__)  #0.21.2"
   ]
  },
  {
   "cell_type": "markdown",
   "metadata": {},
   "source": [
    "## explore data:"
   ]
  },
  {
   "cell_type": "code",
   "execution_count": 450,
   "metadata": {},
   "outputs": [
    {
     "name": "stdout",
     "output_type": "stream",
     "text": [
      "(1460, 81)\n",
      "(1459, 80)\n"
     ]
    }
   ],
   "source": [
    "train=pd.read_csv('data/train.csv')\n",
    "test=pd.read_csv('data/test.csv')\n",
    "print(train.shape)\n",
    "print(test.shape)"
   ]
  },
  {
   "cell_type": "code",
   "execution_count": 451,
   "metadata": {},
   "outputs": [
    {
     "name": "stdout",
     "output_type": "stream",
     "text": [
      "<class 'pandas.core.frame.DataFrame'>\n",
      "RangeIndex: 1460 entries, 0 to 1459\n",
      "Data columns (total 81 columns):\n",
      "Id               1460 non-null int64\n",
      "MSSubClass       1460 non-null int64\n",
      "MSZoning         1460 non-null object\n",
      "LotFrontage      1201 non-null float64\n",
      "LotArea          1460 non-null int64\n",
      "Street           1460 non-null object\n",
      "Alley            91 non-null object\n",
      "LotShape         1460 non-null object\n",
      "LandContour      1460 non-null object\n",
      "Utilities        1460 non-null object\n",
      "LotConfig        1460 non-null object\n",
      "LandSlope        1460 non-null object\n",
      "Neighborhood     1460 non-null object\n",
      "Condition1       1460 non-null object\n",
      "Condition2       1460 non-null object\n",
      "BldgType         1460 non-null object\n",
      "HouseStyle       1460 non-null object\n",
      "OverallQual      1460 non-null int64\n",
      "OverallCond      1460 non-null int64\n",
      "YearBuilt        1460 non-null int64\n",
      "YearRemodAdd     1460 non-null int64\n",
      "RoofStyle        1460 non-null object\n",
      "RoofMatl         1460 non-null object\n",
      "Exterior1st      1460 non-null object\n",
      "Exterior2nd      1460 non-null object\n",
      "MasVnrType       1452 non-null object\n",
      "MasVnrArea       1452 non-null float64\n",
      "ExterQual        1460 non-null object\n",
      "ExterCond        1460 non-null object\n",
      "Foundation       1460 non-null object\n",
      "BsmtQual         1423 non-null object\n",
      "BsmtCond         1423 non-null object\n",
      "BsmtExposure     1422 non-null object\n",
      "BsmtFinType1     1423 non-null object\n",
      "BsmtFinSF1       1460 non-null int64\n",
      "BsmtFinType2     1422 non-null object\n",
      "BsmtFinSF2       1460 non-null int64\n",
      "BsmtUnfSF        1460 non-null int64\n",
      "TotalBsmtSF      1460 non-null int64\n",
      "Heating          1460 non-null object\n",
      "HeatingQC        1460 non-null object\n",
      "CentralAir       1460 non-null object\n",
      "Electrical       1459 non-null object\n",
      "1stFlrSF         1460 non-null int64\n",
      "2ndFlrSF         1460 non-null int64\n",
      "LowQualFinSF     1460 non-null int64\n",
      "GrLivArea        1460 non-null int64\n",
      "BsmtFullBath     1460 non-null int64\n",
      "BsmtHalfBath     1460 non-null int64\n",
      "FullBath         1460 non-null int64\n",
      "HalfBath         1460 non-null int64\n",
      "BedroomAbvGr     1460 non-null int64\n",
      "KitchenAbvGr     1460 non-null int64\n",
      "KitchenQual      1460 non-null object\n",
      "TotRmsAbvGrd     1460 non-null int64\n",
      "Functional       1460 non-null object\n",
      "Fireplaces       1460 non-null int64\n",
      "FireplaceQu      770 non-null object\n",
      "GarageType       1379 non-null object\n",
      "GarageYrBlt      1379 non-null float64\n",
      "GarageFinish     1379 non-null object\n",
      "GarageCars       1460 non-null int64\n",
      "GarageArea       1460 non-null int64\n",
      "GarageQual       1379 non-null object\n",
      "GarageCond       1379 non-null object\n",
      "PavedDrive       1460 non-null object\n",
      "WoodDeckSF       1460 non-null int64\n",
      "OpenPorchSF      1460 non-null int64\n",
      "EnclosedPorch    1460 non-null int64\n",
      "3SsnPorch        1460 non-null int64\n",
      "ScreenPorch      1460 non-null int64\n",
      "PoolArea         1460 non-null int64\n",
      "PoolQC           7 non-null object\n",
      "Fence            281 non-null object\n",
      "MiscFeature      54 non-null object\n",
      "MiscVal          1460 non-null int64\n",
      "MoSold           1460 non-null int64\n",
      "YrSold           1460 non-null int64\n",
      "SaleType         1460 non-null object\n",
      "SaleCondition    1460 non-null object\n",
      "SalePrice        1460 non-null int64\n",
      "dtypes: float64(3), int64(35), object(43)\n",
      "memory usage: 924.0+ KB\n"
     ]
    }
   ],
   "source": [
    "train.info()"
   ]
  },
  {
   "cell_type": "markdown",
   "metadata": {},
   "source": [
    "## preprocessing- cat to num, process Na"
   ]
  },
  {
   "cell_type": "code",
   "execution_count": 452,
   "metadata": {},
   "outputs": [
    {
     "name": "stdout",
     "output_type": "stream",
     "text": [
      "81\n",
      "38\n",
      "(1460, 37)\n",
      "(1121, 37)\n",
      "208500\n",
      "<class 'pandas.core.frame.DataFrame'>\n",
      "Int64Index: 1121 entries, 0 to 1459\n",
      "Data columns (total 36 columns):\n",
      "MSSubClass       1121 non-null int64\n",
      "LotFrontage      1121 non-null float64\n",
      "LotArea          1121 non-null int64\n",
      "OverallQual      1121 non-null int64\n",
      "OverallCond      1121 non-null int64\n",
      "YearBuilt        1121 non-null int64\n",
      "YearRemodAdd     1121 non-null int64\n",
      "MasVnrArea       1121 non-null float64\n",
      "BsmtFinSF1       1121 non-null int64\n",
      "BsmtFinSF2       1121 non-null int64\n",
      "BsmtUnfSF        1121 non-null int64\n",
      "TotalBsmtSF      1121 non-null int64\n",
      "1stFlrSF         1121 non-null int64\n",
      "2ndFlrSF         1121 non-null int64\n",
      "LowQualFinSF     1121 non-null int64\n",
      "GrLivArea        1121 non-null int64\n",
      "BsmtFullBath     1121 non-null int64\n",
      "BsmtHalfBath     1121 non-null int64\n",
      "FullBath         1121 non-null int64\n",
      "HalfBath         1121 non-null int64\n",
      "BedroomAbvGr     1121 non-null int64\n",
      "KitchenAbvGr     1121 non-null int64\n",
      "TotRmsAbvGrd     1121 non-null int64\n",
      "Fireplaces       1121 non-null int64\n",
      "GarageYrBlt      1121 non-null float64\n",
      "GarageCars       1121 non-null int64\n",
      "GarageArea       1121 non-null int64\n",
      "WoodDeckSF       1121 non-null int64\n",
      "OpenPorchSF      1121 non-null int64\n",
      "EnclosedPorch    1121 non-null int64\n",
      "3SsnPorch        1121 non-null int64\n",
      "ScreenPorch      1121 non-null int64\n",
      "PoolArea         1121 non-null int64\n",
      "MiscVal          1121 non-null int64\n",
      "MoSold           1121 non-null int64\n",
      "YrSold           1121 non-null int64\n",
      "dtypes: float64(3), int64(33)\n",
      "memory usage: 364.0 KB\n"
     ]
    }
   ],
   "source": [
    "#train.head()\n",
    "#train.info()\n",
    "#oBeDropped=['Id',''\n",
    "cols=[]\n",
    "'''\n",
    "for x in train.columns:\n",
    "    if train[x].dtype != 'object':\n",
    "        cols.append(x)\n",
    "print (cols)\n",
    "df_train=train[cols]        \n",
    "df_train.drop(['Id'],axis=1,inplace=True)\n",
    "df_train.columns\n",
    "'''\n",
    "\n",
    "def get_cat_cols(df):\n",
    "    cat_cols=[]\n",
    "    for col in df.columns:\n",
    "        if df[col].dtype == 'object' and len(df[col].unique())<10:\n",
    "            cat_cols.append(col)\n",
    "    return cat_cols\n",
    "def drop_all_categorical(df):\n",
    "    cat_cols=[]\n",
    "    for col in df.columns:\n",
    "        if df[col].dtype == 'object':\n",
    "            cat_cols.append(col)\n",
    "    df.drop(cat_cols,axis=1,inplace=True)\n",
    "def convert_cat_to_num(df,cols):\n",
    "    for col in cols:\n",
    "       df=pd.concat([df,pd.get_dummies(df[col],drop_first=True)],axis=1) \n",
    "    #return df2\n",
    "\n",
    "#get list of categorical columns\n",
    "cat_cols=get_cat_cols(train)\n",
    "print(len(train.columns))\n",
    "\n",
    "#convert cat to num\n",
    "convert_cat_to_num(train,cat_cols)\n",
    "\n",
    "#drop all categorical columns\n",
    "drop_all_categorical(train)\n",
    "print(len(train.columns))\n",
    "train.drop(['Id'],axis=1,inplace=True)\n",
    "#print(f\"cat_cols {cat_cols}\" )\n",
    "\n",
    "\n",
    "#dealing with NAN\n",
    "print (train.shape)\n",
    "train.head(20)\n",
    "train=train.dropna(axis=0)\n",
    "print (train.shape)\n",
    "\n",
    "y=train['SalePrice']\n",
    "print(y[0])\n",
    "train.drop(['SalePrice'],axis=1,inplace=True)\n",
    "train.info()\n",
    "\n",
    "\n"
   ]
  },
  {
   "cell_type": "code",
   "execution_count": 453,
   "metadata": {},
   "outputs": [
    {
     "name": "stdout",
     "output_type": "stream",
     "text": [
      "[ 0.09229529 -0.23357027 -0.20588518  0.5707043  -0.52549852  0.99292962\n",
      "  0.82395281  0.46200874  0.57158059 -0.28264534 -0.98681727 -0.49637729\n",
      " -0.82275306  1.14229012 -0.1098745   0.34115012  1.14454025 -0.23793416\n",
      "  0.76248482  1.24007694  0.17573206 -0.20704663  0.89515395 -0.95516343\n",
      "  0.95308429  0.18549901  0.23564103 -0.76025725  0.23103571 -0.35662187\n",
      " -0.11252955 -0.27867611 -0.07299943 -0.14140664 -1.61534509  0.15308355]\n",
      "208500\n",
      "[0.27716076]\n"
     ]
    }
   ],
   "source": [
    "\n",
    "##Scaling- standardization\n",
    "#print(train.columns)\n",
    "scaler=StandardScaler()\n",
    "train=scaler.fit_transform(train)\n",
    "print (train[0])\n",
    "\n",
    "print(y[0])\n",
    "shape=y.shape\n",
    "y=scaler.fit_transform(y.values.reshape(-1,1))\n",
    "y.reshape(shape)\n",
    "print(y[0])"
   ]
  },
  {
   "cell_type": "markdown",
   "metadata": {},
   "source": [
    "##  models:"
   ]
  },
  {
   "cell_type": "code",
   "execution_count": 459,
   "metadata": {},
   "outputs": [
    {
     "name": "stdout",
     "output_type": "stream",
     "text": [
      "model: Random Forest r2 -0.16849408662655949\n",
      "model: SVM_lin r2 -0.16849408662655949\n",
      "model: SVM_rbf r2 -0.16849408662655949\n",
      "model: SVM_poly r2 -0.16849408662655949\n"
     ]
    }
   ],
   "source": [
    "#x_train,y_train,x_test,y_test=train_test_split(train,y,test_size=0.2)\n",
    "#print ( x_train.shape,\" \",y_train.shape)\n",
    "\n",
    "models= []\n",
    "svr_rbf = SVR(kernel='rbf', C=100, gamma=0.1, epsilon=.1)\n",
    "svr_lin = SVR(kernel='linear', C=100, gamma='auto')\n",
    "svr_poly = SVR(kernel='poly', C=100, gamma='auto', degree=3, epsilon=.1,\n",
    "               coef0=1)\n",
    "\n",
    "xg = xgb.XGBRegressor(colsample_bytree=0.4,\n",
    "                 gamma=0,                 \n",
    "                 learning_rate=0.07,\n",
    "                 max_depth=3,\n",
    "                 min_child_weight=1.5,\n",
    "                 n_estimators=10000,                                                                    \n",
    "                 reg_alpha=0.75,\n",
    "                 reg_lambda=0.45,\n",
    "                 subsample=0.6,\n",
    "                 seed=42) \n",
    "\n",
    "#models.append(('KNN', KNeighborsClassifier(n_neighbors = 5)))\n",
    "#models.append(('SVM',SVC()))\n",
    "models.append(('Random Forest',RandomForestRegressor(n_estimators=100, min_samples_leaf=10, random_state=1)) )\n",
    "models.append(('SVM_lin',svr_lin))\n",
    "models.append(('SVM_rbf',svr_rbf))\n",
    "models.append(('SVM_poly',svr_poly))\n",
    "#models.append(('xgboost',xg))\n",
    "\n",
    "results=[]\n",
    "n_splits=int(100/10) # 10 percent test data\n",
    "#print (n_splits)\n",
    "\n",
    "for name,model in models:\n",
    "    \n",
    "    kfold=model_selection.KFold(n_splits=n_splits)\n",
    "    #scoring='accuracy'\n",
    "    cv_result=model_selection.cross_val_score(model,train,y.ravel(),cv=kfold,scoring='r2') #accuracy is for classification \n",
    "    results.append(cv_result)\n",
    "    r2=np.mean(cv_result)\n",
    "    print (f\"model: {name} r2 {r2}\")\n",
    "    \n",
    "\n",
    "\n",
    "              "
   ]
  },
  {
   "cell_type": "code",
   "execution_count": null,
   "metadata": {},
   "outputs": [],
   "source": []
  },
  {
   "cell_type": "code",
   "execution_count": null,
   "metadata": {},
   "outputs": [],
   "source": []
  },
  {
   "cell_type": "code",
   "execution_count": null,
   "metadata": {},
   "outputs": [],
   "source": []
  }
 ],
 "metadata": {
  "kernelspec": {
   "display_name": "Python 3",
   "language": "python",
   "name": "python3"
  },
  "language_info": {
   "codemirror_mode": {
    "name": "ipython",
    "version": 3
   },
   "file_extension": ".py",
   "mimetype": "text/x-python",
   "name": "python",
   "nbconvert_exporter": "python",
   "pygments_lexer": "ipython3",
   "version": "3.6.8"
  }
 },
 "nbformat": 4,
 "nbformat_minor": 2
}
