{
 "cells": [
  {
   "cell_type": "markdown",
   "metadata": {},
   "source": [
    "# Titanic Disaster"
   ]
  },
  {
   "cell_type": "markdown",
   "metadata": {},
   "source": [
    "## Import"
   ]
  },
  {
   "cell_type": "code",
   "execution_count": 58,
   "metadata": {},
   "outputs": [],
   "source": [
    "import pandas as pd\n",
    "import matplotlib.pyplot as plt\n",
    "import seaborn as sns; sns.set()\n",
    "from sklearn import svm\n",
    "from sklearn import tree\n",
    "from sklearn.ensemble import RandomForestClassifier\n",
    "from sklearn.metrics import accuracy_score\n",
    "from sklearn.cross_validation import train_test_split\n",
    "\n",
    "%matplotlib inline"
   ]
  },
  {
   "cell_type": "markdown",
   "metadata": {},
   "source": [
    "## Process Data"
   ]
  },
  {
   "cell_type": "code",
   "execution_count": 59,
   "metadata": {},
   "outputs": [],
   "source": [
    "def process_data (data):\n",
    "    # INFO: Parch is removed due to correlation with SibSp and Fare removed due to correlation with Pclass\n",
    "    frame = data [['Pclass', 'Sex', 'Age', 'SibSp', 'Parch', 'Embarked']] # TODO: Consider Cabin \n",
    "    # frame = data [['Age', 'SibSp', 'Parch']]\n",
    "    # frame = frame.dropna()\n",
    "\n",
    "    # Imputation Embarked : mode\n",
    "    frame['Embarked'].fillna (frame['Embarked'].mode(), inplace=True)\n",
    "\n",
    "    frame = pd.get_dummies (frame, columns=['Sex', 'Embarked'])\n",
    "    del frame['Sex_female']\n",
    "    print (frame)\n",
    "    \n",
    "    # Age : Mean\n",
    "    frame['Age'].fillna(frame['Age'].mean(), inplace=True)\n",
    "    \n",
    "    return frame"
   ]
  },
  {
   "cell_type": "markdown",
   "metadata": {},
   "source": [
    "## Read Data"
   ]
  },
  {
   "cell_type": "code",
   "execution_count": 60,
   "metadata": {},
   "outputs": [
    {
     "name": "stdout",
     "output_type": "stream",
     "text": [
      "     Pclass   Age  SibSp  Parch  Sex_male  Embarked_C  Embarked_Q  Embarked_S\n",
      "0         3  22.0      1      0         1           0           0           1\n",
      "1         1  38.0      1      0         0           1           0           0\n",
      "2         3  26.0      0      0         0           0           0           1\n",
      "3         1  35.0      1      0         0           0           0           1\n",
      "4         3  35.0      0      0         1           0           0           1\n",
      "5         3   NaN      0      0         1           0           1           0\n",
      "6         1  54.0      0      0         1           0           0           1\n",
      "7         3   2.0      3      1         1           0           0           1\n",
      "8         3  27.0      0      2         0           0           0           1\n",
      "9         2  14.0      1      0         0           1           0           0\n",
      "10        3   4.0      1      1         0           0           0           1\n",
      "11        1  58.0      0      0         0           0           0           1\n",
      "12        3  20.0      0      0         1           0           0           1\n",
      "13        3  39.0      1      5         1           0           0           1\n",
      "14        3  14.0      0      0         0           0           0           1\n",
      "15        2  55.0      0      0         0           0           0           1\n",
      "16        3   2.0      4      1         1           0           1           0\n",
      "17        2   NaN      0      0         1           0           0           1\n",
      "18        3  31.0      1      0         0           0           0           1\n",
      "19        3   NaN      0      0         0           1           0           0\n",
      "20        2  35.0      0      0         1           0           0           1\n",
      "21        2  34.0      0      0         1           0           0           1\n",
      "22        3  15.0      0      0         0           0           1           0\n",
      "23        1  28.0      0      0         1           0           0           1\n",
      "24        3   8.0      3      1         0           0           0           1\n",
      "25        3  38.0      1      5         0           0           0           1\n",
      "26        3   NaN      0      0         1           1           0           0\n",
      "27        1  19.0      3      2         1           0           0           1\n",
      "28        3   NaN      0      0         0           0           1           0\n",
      "29        3   NaN      0      0         1           0           0           1\n",
      "..      ...   ...    ...    ...       ...         ...         ...         ...\n",
      "861       2  21.0      1      0         1           0           0           1\n",
      "862       1  48.0      0      0         0           0           0           1\n",
      "863       3   NaN      8      2         0           0           0           1\n",
      "864       2  24.0      0      0         1           0           0           1\n",
      "865       2  42.0      0      0         0           0           0           1\n",
      "866       2  27.0      1      0         0           1           0           0\n",
      "867       1  31.0      0      0         1           0           0           1\n",
      "868       3   NaN      0      0         1           0           0           1\n",
      "869       3   4.0      1      1         1           0           0           1\n",
      "870       3  26.0      0      0         1           0           0           1\n",
      "871       1  47.0      1      1         0           0           0           1\n",
      "872       1  33.0      0      0         1           0           0           1\n",
      "873       3  47.0      0      0         1           0           0           1\n",
      "874       2  28.0      1      0         0           1           0           0\n",
      "875       3  15.0      0      0         0           1           0           0\n",
      "876       3  20.0      0      0         1           0           0           1\n",
      "877       3  19.0      0      0         1           0           0           1\n",
      "878       3   NaN      0      0         1           0           0           1\n",
      "879       1  56.0      0      1         0           1           0           0\n",
      "880       2  25.0      0      1         0           0           0           1\n",
      "881       3  33.0      0      0         1           0           0           1\n",
      "882       3  22.0      0      0         0           0           0           1\n",
      "883       2  28.0      0      0         1           0           0           1\n",
      "884       3  25.0      0      0         1           0           0           1\n",
      "885       3  39.0      0      5         0           0           1           0\n",
      "886       2  27.0      0      0         1           0           0           1\n",
      "887       1  19.0      0      0         0           0           0           1\n",
      "888       3   NaN      1      2         0           0           0           1\n",
      "889       1  26.0      0      0         1           1           0           0\n",
      "890       3  32.0      0      0         1           0           1           0\n",
      "\n",
      "[891 rows x 8 columns]\n",
      "     Pclass   Age  SibSp  Parch  Sex_male  Embarked_C  Embarked_Q  Embarked_S\n",
      "0         3  34.5      0      0         1           0           1           0\n",
      "1         3  47.0      1      0         0           0           0           1\n",
      "2         2  62.0      0      0         1           0           1           0\n",
      "3         3  27.0      0      0         1           0           0           1\n",
      "4         3  22.0      1      1         0           0           0           1\n",
      "5         3  14.0      0      0         1           0           0           1\n",
      "6         3  30.0      0      0         0           0           1           0\n",
      "7         2  26.0      1      1         1           0           0           1\n",
      "8         3  18.0      0      0         0           1           0           0\n",
      "9         3  21.0      2      0         1           0           0           1\n",
      "10        3   NaN      0      0         1           0           0           1\n",
      "11        1  46.0      0      0         1           0           0           1\n",
      "12        1  23.0      1      0         0           0           0           1\n",
      "13        2  63.0      1      0         1           0           0           1\n",
      "14        1  47.0      1      0         0           0           0           1\n",
      "15        2  24.0      1      0         0           1           0           0\n",
      "16        2  35.0      0      0         1           0           1           0\n",
      "17        3  21.0      0      0         1           1           0           0\n",
      "18        3  27.0      1      0         0           0           0           1\n",
      "19        3  45.0      0      0         0           1           0           0\n",
      "20        1  55.0      1      0         1           1           0           0\n",
      "21        3   9.0      0      1         1           0           0           1\n",
      "22        1   NaN      0      0         0           0           0           1\n",
      "23        1  21.0      0      1         1           1           0           0\n",
      "24        1  48.0      1      3         0           1           0           0\n",
      "25        3  50.0      1      0         1           0           0           1\n",
      "26        1  22.0      0      1         0           1           0           0\n",
      "27        3  22.5      0      0         1           1           0           0\n",
      "28        1  41.0      0      0         1           0           0           1\n",
      "29        3   NaN      2      0         1           1           0           0\n",
      "..      ...   ...    ...    ...       ...         ...         ...         ...\n",
      "388       3  21.0      0      0         1           0           1           0\n",
      "389       3   6.0      3      1         1           0           0           1\n",
      "390       1  23.0      0      0         1           0           0           1\n",
      "391       1  51.0      0      1         0           0           0           1\n",
      "392       3  13.0      0      2         1           0           0           1\n",
      "393       2  47.0      0      0         1           0           0           1\n",
      "394       3  29.0      3      1         1           0           0           1\n",
      "395       1  18.0      1      0         0           0           0           1\n",
      "396       3  24.0      0      0         1           0           1           0\n",
      "397       1  48.0      1      1         0           1           0           0\n",
      "398       3  22.0      0      0         1           0           0           1\n",
      "399       3  31.0      0      0         1           0           1           0\n",
      "400       1  30.0      0      0         0           0           0           1\n",
      "401       2  38.0      1      0         1           0           0           1\n",
      "402       1  22.0      0      1         0           1           0           0\n",
      "403       1  17.0      0      0         1           0           0           1\n",
      "404       1  43.0      1      0         1           1           0           0\n",
      "405       2  20.0      0      0         1           1           0           0\n",
      "406       2  23.0      1      0         1           0           0           1\n",
      "407       1  50.0      1      1         1           1           0           0\n",
      "408       3   NaN      0      0         0           0           1           0\n",
      "409       3   3.0      1      1         0           0           0           1\n",
      "410       3   NaN      0      0         0           0           1           0\n",
      "411       1  37.0      1      0         0           0           1           0\n",
      "412       3  28.0      0      0         0           0           0           1\n",
      "413       3   NaN      0      0         1           0           0           1\n",
      "414       1  39.0      0      0         0           1           0           0\n",
      "415       3  38.5      0      0         1           0           0           1\n",
      "416       3   NaN      0      0         1           0           0           1\n",
      "417       3   NaN      1      1         1           1           0           0\n",
      "\n",
      "[418 rows x 8 columns]\n"
     ]
    }
   ],
   "source": [
    "data_train = pd.read_csv(\"train.csv\")\n",
    "data_test = pd.read_csv(\"test.csv\")\n",
    "truth = pd.read_csv(\"gender_submission.csv\")['Survived']\n",
    "\n",
    "frame_train = process_data (data_train)\n",
    "frame_test = process_data (data_test)\n",
    "#Split Data:\n",
    "X_train, X_test, y_train, y_test = train_test_split( frame_train, data_train['Survived'], test_size = 0.2)\n"
   ]
  },
  {
   "cell_type": "markdown",
   "metadata": {},
   "source": [
    "## Data Visualization"
   ]
  },
  {
   "cell_type": "code",
   "execution_count": 61,
   "metadata": {},
   "outputs": [
    {
     "data": {
      "image/png": "[encoded data removed]",
      "text/plain": [
       "<Figure size 432x288 with 2 Axes>"
      ]
     },
     "metadata": {
      "needs_background": "light"
     },
     "output_type": "display_data"
    }
   ],
   "source": [
    "ax = sns.heatmap(frame_train.corr(), xticklabels=True, yticklabels=True)"
   ]
  },
  {
   "cell_type": "code",
   "execution_count": 62,
   "metadata": {},
   "outputs": [],
   "source": [
    "#clf = svm.SVC(kernel='linear')\n",
    "#dTree = tree.DecisionTreeClassifier(criterion='entropy').fit(X_train, y_train)\n",
    "dTree=RandomForestClassifier(n_estimators = 20).fit(X_train, y_train)\n",
    "#dTree.fit(frame_train, data_train['Survived'])"
   ]
  },
  {
   "cell_type": "code",
   "execution_count": 64,
   "metadata": {},
   "outputs": [
    {
     "name": "stdout",
     "output_type": "stream",
     "text": [
      "Accuracy of Train data:\n",
      "93\n",
      "Accuracy of Test data:\n",
      "82\n"
     ]
    }
   ],
   "source": [
    "#Predict Train\n",
    "def Accuracy(Y,prediction):\n",
    "    \n",
    "    #Predict Test\n",
    "\n",
    "    CM = pd.crosstab(Y, prediction)\n",
    "\n",
    "    #let us save TP, TN, FP, FN\n",
    "    TN = CM.iloc[0,0]\n",
    "    FN = CM.iloc[1,0]\n",
    "    TP = CM.iloc[1,1]\n",
    "    FP = CM.iloc[0,1]\n",
    "\n",
    "    #check accuracy of model\n",
    "    #accuracy_score(y_test, y_pred)*100\n",
    "    print(((TP+TN)*100)/(TP+TN+FP+FN))\n",
    "    \n",
    "prediction = dTree.predict (X_train)\n",
    "print('Accuracy of Train data:')\n",
    "Accuracy(y_train,prediction)\n",
    "\n",
    "predictionTest = dTree.predict (X_test)\n",
    "print('Accuracy of Test data:')\n",
    "Accuracy(y_test,predictionTest)\n",
    "\n",
    "\n",
    "#write to CSV  \n",
    "predictionTestKagle = dTree.predict (frame_test)\n",
    "data_test['Survived'] = predictionTestKagle\n",
    "data_test[['PassengerId','Survived']].to_csv(\"output2.csv\",sep=',', index=False)\n"
   ]
  },
  {
   "cell_type": "code",
   "execution_count": null,
   "metadata": {
    "collapsed": true
   },
   "outputs": [],
   "source": [
    "#Accuracy Summary:\n",
    "Decision Tree:\n",
    "    \n",
    "Accuracy of Train data:\n",
    "93\n",
    "Accuracy of Test data:\n",
    "82\n",
    "\n",
    "Random Forest:\n",
    "Accuracy of Train data:\n",
    "\n",
    "Accuracy of Test data:\n"
   ]
  }
 ],
 "metadata": {
  "kernelspec": {
   "display_name": "Python 2",
   "language": "python",
   "name": "python2"
  },
  "language_info": {
   "codemirror_mode": {
    "name": "ipython",
    "version": 2
   },
   "file_extension": ".py",
   "mimetype": "text/x-python",
   "name": "python",
   "nbconvert_exporter": "python",
   "pygments_lexer": "ipython2",
   "version": "2.7.15"
  }
 },
 "nbformat": 4,
 "nbformat_minor": 2
}
