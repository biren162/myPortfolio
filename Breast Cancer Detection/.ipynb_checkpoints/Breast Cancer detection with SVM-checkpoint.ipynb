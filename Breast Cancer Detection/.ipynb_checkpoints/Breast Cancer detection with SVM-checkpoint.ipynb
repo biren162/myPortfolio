{
 "cells": [
  {
   "cell_type": "code",
   "execution_count": 1,
   "metadata": {},
   "outputs": [
    {
     "name": "stderr",
     "output_type": "stream",
     "text": [
      "C:\\Users\\bipatel\\AppData\\Local\\Continuum\\anaconda2\\lib\\site-packages\\sklearn\\cross_validation.py:41: DeprecationWarning: This module was deprecated in version 0.18 in favor of the model_selection module into which all the refactored classes and functions are moved. Also note that the interface of the new CV iterators are different from that of this module. This module will be removed in 0.20.\n",
      "  \"This module will be removed in 0.20.\", DeprecationWarning)\n"
     ]
    },
    {
     "name": "stdout",
     "output_type": "stream",
     "text": [
      "Python: 2.7.15 |Anaconda, Inc.| (default, May  1 2018, 18:37:09) [MSC v.1500 64 bit (AMD64)]\n",
      "scipy: 1.1.0\n",
      "numpy: 1.15.1\n",
      "matplotlib: 2.2.3\n",
      "pandas: 0.23.4\n",
      "sklearn: 0.19.2\n"
     ]
    }
   ],
   "source": [
    "import sys\n",
    "import numpy as np\n",
    "import sklearn as sk\n",
    "import pandas as pd\n",
    "import scipy\n",
    "import matplotlib as plt\n",
    "from sklearn import cross_validation\n",
    "from sklearn.neighbors import KNeighborsClassifier\n",
    "from sklearn.svm import SVC\n",
    "from sklearn import model_selection\n",
    "from sklearn.metrics import classification_report\n",
    "from sklearn.metrics import accuracy_score\n",
    "\n",
    "# Check Python Version\n",
    "import sys\n",
    "import scipy\n",
    "import numpy\n",
    "import matplotlib\n",
    "import pandas\n",
    "import sklearn\n",
    "\n",
    "print('Python: {}'.format(sys.version))\n",
    "print('scipy: {}'.format(scipy.__version__))\n",
    "print('numpy: {}'.format(numpy.__version__))\n",
    "print('matplotlib: {}'.format(matplotlib.__version__))\n",
    "print('pandas: {}'.format(pandas.__version__))\n",
    "print('sklearn: {}'.format(sklearn.__version__))"
   ]
  },
  {
   "cell_type": "code",
   "execution_count": 2,
   "metadata": {},
   "outputs": [
    {
     "name": "stdout",
     "output_type": "stream",
     "text": [
      "[RangeIndex(start=0, stop=699, step=1), Index([u'id', u'clump_thickness', u'uniform_cell_size', u'uniform_cell_shape',\n",
      "       u'marginal_adhesion', u'single_epithelial_size', u'bare_nuclei',\n",
      "       u'bland_chromatin', u'normal_nucleoli', u'mitoses', u'class'],\n",
      "      dtype='object')]\n",
      "clump_thickness            5\n",
      "uniform_cell_size          4\n",
      "uniform_cell_shape         4\n",
      "marginal_adhesion          5\n",
      "single_epithelial_size     7\n",
      "bare_nuclei               10\n",
      "bland_chromatin            3\n",
      "normal_nucleoli            2\n",
      "mitoses                    1\n",
      "class                      2\n",
      "Name: 1, dtype: object\n",
      "(699, 10)\n"
     ]
    },
    {
     "data": {
      "text/plain": [
       "array([[<matplotlib.axes._subplots.AxesSubplot object at 0x000000000F55C6A0>,\n",
       "        <matplotlib.axes._subplots.AxesSubplot object at 0x000000000F624DD8>,\n",
       "        <matplotlib.axes._subplots.AxesSubplot object at 0x000000000F663588>,\n",
       "        <matplotlib.axes._subplots.AxesSubplot object at 0x000000000F71DCF8>,\n",
       "        <matplotlib.axes._subplots.AxesSubplot object at 0x000000000F75D4A8>,\n",
       "        <matplotlib.axes._subplots.AxesSubplot object at 0x000000000FB9AC18>,\n",
       "        <matplotlib.axes._subplots.AxesSubplot object at 0x000000000FBDC3C8>,\n",
       "        <matplotlib.axes._subplots.AxesSubplot object at 0x000000000FCA5B38>,\n",
       "        <matplotlib.axes._subplots.AxesSubplot object at 0x000000000FD292E8>],\n",
       "       [<matplotlib.axes._subplots.AxesSubplot object at 0x000000000FD5BA58>,\n",
       "        <matplotlib.axes._subplots.AxesSubplot object at 0x000000000FEA6208>,\n",
       "        <matplotlib.axes._subplots.AxesSubplot object at 0x000000000FEDA978>,\n",
       "        <matplotlib.axes._subplots.AxesSubplot object at 0x000000000FF1B128>,\n",
       "        <matplotlib.axes._subplots.AxesSubplot object at 0x000000000FFE5898>,\n",
       "        <matplotlib.axes._subplots.AxesSubplot object at 0x00000000100AE048>,\n",
       "        <matplotlib.axes._subplots.AxesSubplot object at 0x00000000100E07B8>,\n",
       "        <matplotlib.axes._subplots.AxesSubplot object at 0x0000000010199F28>,\n",
       "        <matplotlib.axes._subplots.AxesSubplot object at 0x000000001021D6D8>],\n",
       "       [<matplotlib.axes._subplots.AxesSubplot object at 0x0000000010291E48>,\n",
       "        <matplotlib.axes._subplots.AxesSubplot object at 0x000000001036A5F8>,\n",
       "        <matplotlib.axes._subplots.AxesSubplot object at 0x00000000103E2D68>,\n",
       "        <matplotlib.axes._subplots.AxesSubplot object at 0x0000000010476518>,\n",
       "        <matplotlib.axes._subplots.AxesSubplot object at 0x00000000104ABC88>,\n",
       "        <matplotlib.axes._subplots.AxesSubplot object at 0x0000000010531438>,\n",
       "        <matplotlib.axes._subplots.AxesSubplot object at 0x00000000105A4BA8>,\n",
       "        <matplotlib.axes._subplots.AxesSubplot object at 0x000000001066C358>,\n",
       "        <matplotlib.axes._subplots.AxesSubplot object at 0x00000000106F1AC8>],\n",
       "       [<matplotlib.axes._subplots.AxesSubplot object at 0x0000000010776278>,\n",
       "        <matplotlib.axes._subplots.AxesSubplot object at 0x00000000108019E8>,\n",
       "        <matplotlib.axes._subplots.AxesSubplot object at 0x00000000108C6128>,\n",
       "        <matplotlib.axes._subplots.AxesSubplot object at 0x00000000108F9898>,\n",
       "        <matplotlib.axes._subplots.AxesSubplot object at 0x00000000109C1048>,\n",
       "        <matplotlib.axes._subplots.AxesSubplot object at 0x0000000010B1B7B8>,\n",
       "        <matplotlib.axes._subplots.AxesSubplot object at 0x0000000010B4FF28>,\n",
       "        <matplotlib.axes._subplots.AxesSubplot object at 0x0000000010B8F6D8>,\n",
       "        <matplotlib.axes._subplots.AxesSubplot object at 0x0000000010C4AE48>],\n",
       "       [<matplotlib.axes._subplots.AxesSubplot object at 0x0000000010CCB5F8>,\n",
       "        <matplotlib.axes._subplots.AxesSubplot object at 0x0000000010D42D68>,\n",
       "        <matplotlib.axes._subplots.AxesSubplot object at 0x0000000010E0A518>,\n",
       "        <matplotlib.axes._subplots.AxesSubplot object at 0x0000000010E80C88>,\n",
       "        <matplotlib.axes._subplots.AxesSubplot object at 0x0000000010F03438>,\n",
       "        <matplotlib.axes._subplots.AxesSubplot object at 0x0000000010F7ABA8>,\n",
       "        <matplotlib.axes._subplots.AxesSubplot object at 0x0000000011040358>,\n",
       "        <matplotlib.axes._subplots.AxesSubplot object at 0x00000000110B5AC8>,\n",
       "        <matplotlib.axes._subplots.AxesSubplot object at 0x000000001114B278>],\n",
       "       [<matplotlib.axes._subplots.AxesSubplot object at 0x000000001117D9E8>,\n",
       "        <matplotlib.axes._subplots.AxesSubplot object at 0x0000000011246198>,\n",
       "        <matplotlib.axes._subplots.AxesSubplot object at 0x000000001127A908>,\n",
       "        <matplotlib.axes._subplots.AxesSubplot object at 0x000000001133E0B8>,\n",
       "        <matplotlib.axes._subplots.AxesSubplot object at 0x00000000113B4828>,\n",
       "        <matplotlib.axes._subplots.AxesSubplot object at 0x000000001142DF98>,\n",
       "        <matplotlib.axes._subplots.AxesSubplot object at 0x0000000011504748>,\n",
       "        <matplotlib.axes._subplots.AxesSubplot object at 0x0000000011539EB8>,\n",
       "        <matplotlib.axes._subplots.AxesSubplot object at 0x0000000011640668>],\n",
       "       [<matplotlib.axes._subplots.AxesSubplot object at 0x00000000116B8DD8>,\n",
       "        <matplotlib.axes._subplots.AxesSubplot object at 0x0000000011739588>,\n",
       "        <matplotlib.axes._subplots.AxesSubplot object at 0x00000000117F4CF8>,\n",
       "        <matplotlib.axes._subplots.AxesSubplot object at 0x00000000118784A8>,\n",
       "        <matplotlib.axes._subplots.AxesSubplot object at 0x00000000118AAC18>,\n",
       "        <matplotlib.axes._subplots.AxesSubplot object at 0x000000001192E3C8>,\n",
       "        <matplotlib.axes._subplots.AxesSubplot object at 0x00000000119E7B38>,\n",
       "        <matplotlib.axes._subplots.AxesSubplot object at 0x0000000011A282E8>,\n",
       "        <matplotlib.axes._subplots.AxesSubplot object at 0x0000000011B07A58>],\n",
       "       [<matplotlib.axes._subplots.AxesSubplot object at 0x0000000011B8D208>,\n",
       "        <matplotlib.axes._subplots.AxesSubplot object at 0x0000000011C02978>,\n",
       "        <matplotlib.axes._subplots.AxesSubplot object at 0x0000000011C88128>,\n",
       "        <matplotlib.axes._subplots.AxesSubplot object at 0x0000000011D40898>,\n",
       "        <matplotlib.axes._subplots.AxesSubplot object at 0x0000000011DC3048>,\n",
       "        <matplotlib.axes._subplots.AxesSubplot object at 0x0000000011E397B8>,\n",
       "        <matplotlib.axes._subplots.AxesSubplot object at 0x0000000011E6DF28>,\n",
       "        <matplotlib.axes._subplots.AxesSubplot object at 0x0000000011F436D8>,\n",
       "        <matplotlib.axes._subplots.AxesSubplot object at 0x0000000011F8CE48>],\n",
       "       [<matplotlib.axes._subplots.AxesSubplot object at 0x00000000120515F8>,\n",
       "        <matplotlib.axes._subplots.AxesSubplot object at 0x000000001210AD68>,\n",
       "        <matplotlib.axes._subplots.AxesSubplot object at 0x0000000012149518>,\n",
       "        <matplotlib.axes._subplots.AxesSubplot object at 0x000000001224EC88>,\n",
       "        <matplotlib.axes._subplots.AxesSubplot object at 0x00000000122CF438>,\n",
       "        <matplotlib.axes._subplots.AxesSubplot object at 0x000000001235ABA8>,\n",
       "        <matplotlib.axes._subplots.AxesSubplot object at 0x000000001241F358>,\n",
       "        <matplotlib.axes._subplots.AxesSubplot object at 0x0000000012497AC8>,\n",
       "        <matplotlib.axes._subplots.AxesSubplot object at 0x000000001251A278>]],\n",
       "      dtype=object)"
      ]
     },
     "execution_count": 2,
     "metadata": {},
     "output_type": "execute_result"
    }
   ],
   "source": [
    "#loading data\n",
    "url= \"https://archive.ics.uci.edu/ml/machine-learning-databases/breast-cancer-wisconsin/breast-cancer-wisconsin.data\"\n",
    "names=['id', 'clump_thickness', 'uniform_cell_size', 'uniform_cell_shape',\n",
    "       'marginal_adhesion', 'single_epithelial_size', 'bare_nuclei',\n",
    "       'bland_chromatin', 'normal_nucleoli', 'mitoses', 'class']\n",
    "df= pd.read_csv(url,names=names)\n",
    "\n",
    "#pre process the data\n",
    "df.replace('?',-99999,inplace=True)\n",
    "print(df.axes)\n",
    "df.drop(['id'],1,inplace=True)\n",
    "\n",
    "# Explore and visualize the data\n",
    "\n",
    "print (df.loc[1])\n",
    "print (df.shape)\n",
    "df.hist(figsize=(10,10))\n",
    "\n",
    "pd.plotting.scatter_matrix(df,figsize=(20,20))\n"
   ]
  },
  {
   "cell_type": "code",
   "execution_count": 3,
   "metadata": {},
   "outputs": [],
   "source": [
    "# create varibales from data for model\n",
    "X=np.array(df.drop(['class'],1))\n",
    "y=np.array(df['class'])\n",
    "\n",
    "X_train,X_test, y_train,y_test= sk.cross_validation.train_test_split(X,y,test_size=0.25)\n"
   ]
  },
  {
   "cell_type": "code",
   "execution_count": 4,
   "metadata": {},
   "outputs": [
    {
     "name": "stdout",
     "output_type": "stream",
     "text": [
      "KNN: 0.977068 (0.011468)\n",
      "SVM: 0.961938 (0.022297)\n"
     ]
    }
   ],
   "source": [
    "#define models\n",
    "models = []\n",
    "models.append(('KNN',KNeighborsClassifier(n_neighbors=5)))\n",
    "models.append(('SVM', SVC()))\n",
    "\n",
    "results=[]\n",
    "names= []\n",
    "for name,model in models:\n",
    "    kfold= model_selection.KFold(n_splits=10,random_state=8)\n",
    "    cv_results=model_selection.cross_val_score(model,X_train,y_train, cv=kfold,scoring='accuracy')\n",
    "    results.append(cv_results)\n",
    "    names.append(name)\n",
    "    msg= \"%s: %f (%f)\" % (name, cv_results.mean(),cv_results.std())\n",
    "    print(msg)"
   ]
  },
  {
   "cell_type": "code",
   "execution_count": 5,
   "metadata": {},
   "outputs": [
    {
     "name": "stdout",
     "output_type": "stream",
     "text": [
      "KNN\n",
      "0.9314285714285714\n",
      "             precision    recall  f1-score   support\n",
      "\n",
      "          2       0.91      0.98      0.95       109\n",
      "          4       0.97      0.85      0.90        66\n",
      "\n",
      "avg / total       0.93      0.93      0.93       175\n",
      "\n",
      "SVM\n",
      "0.9371428571428572\n",
      "             precision    recall  f1-score   support\n",
      "\n",
      "          2       0.96      0.94      0.95       109\n",
      "          4       0.90      0.94      0.92        66\n",
      "\n",
      "avg / total       0.94      0.94      0.94       175\n",
      "\n"
     ]
    }
   ],
   "source": [
    "for name,model in models:\n",
    "    model.fit(X_train,y_train)\n",
    "    predictions= model.predict(X_test)\n",
    "    print(name)\n",
    "    print(accuracy_score(y_test,predictions))\n",
    "    print(classification_report(y_test,predictions))"
   ]
  },
  {
   "cell_type": "code",
   "execution_count": 6,
   "metadata": {},
   "outputs": [
    {
     "name": "stdout",
     "output_type": "stream",
     "text": [
      "0.9371428571428572\n",
      "[2]\n"
     ]
    }
   ],
   "source": [
    "#predict new example\n",
    "\n",
    "classify= SVC()\n",
    "\n",
    "classify.fit(X_train,y_train)\n",
    "accuracy=classify.score(X_test,y_test)\n",
    "print(accuracy)\n",
    "\n",
    "ex=np.array([[4,2,4,3,4,3,2,3,3]])\n",
    "prediction=classify.predict(ex)\n",
    "print(prediction)"
   ]
  },
  {
   "cell_type": "code",
   "execution_count": 7,
   "metadata": {},
   "outputs": [
    {
     "data": {
      "image/png": "[encoded data removed]",
      "text/plain": [
       "<Figure size 432x288 with 1 Axes>"
      ]
     },
     "metadata": {
      "needs_background": "light"
     },
     "output_type": "display_data"
    }
   ],
   "source": [
    "from sklearn.decomposition import PCA\n",
    "pca = PCA(n_components=2).fit(X_train)\n",
    "pca_2d = pca.transform(X_train)\n",
    "\n",
    "#ploting feature in 2d\n",
    "import pylab as pl\n",
    "#from pylab import rc\n",
    "for i in range(0, pca_2d.shape[0]):\n",
    "    #if y_train[i] == 1:\n",
    "    #    c1 = pl.scatter(pca_2d[i,0],pca_2d[i,1],c=1,    marker='+')\n",
    "        \n",
    "    if y_train[i] == 2:\n",
    "        c2 = pl.scatter(pca_2d[i,0],pca_2d[i,1],c=2,    marker='o')\n",
    "    elif y_train[i] == 4:\n",
    "        c3 = pl.scatter(pca_2d[i,0],pca_2d[i,1],c=4,    marker='*')\n",
    "       \n",
    "pl.legend([ c2, c3], ['non Malignant', 'Malignant'])\n",
    "#rc('figure', figsize=(8, 6))\n",
    "pl.title('Iris training dataset with 2 classes and    known outcomes')\n",
    "pl.show()\n",
    "\n",
    "\n"
   ]
  },
  {
   "cell_type": "code",
   "execution_count": 9,
   "metadata": {},
   "outputs": [
    {
     "data": {
      "image/png": "[encoded data removed]",
      "text/plain": [
       "<Figure size 432x288 with 1 Axes>"
      ]
     },
     "metadata": {
      "needs_background": "light"
     },
     "output_type": "display_data"
    }
   ],
   "source": [
    "from sklearn.decomposition import PCA\n",
    "from sklearn.datasets import load_iris\n",
    "from sklearn import svm\n",
    "from sklearn import cross_validation\n",
    "import pylab as pl\n",
    "import numpy as np\n",
    "iris = load_iris()\n",
    "X_train, X_test, y_train, y_test =   cross_validation.train_test_split(iris.data,   iris.target, test_size=0.10, random_state=111)\n",
    "pca = PCA(n_components=2).fit(X_train)\n",
    "pca_2d = pca.transform(X_train)\n",
    "svmClassifier_2d =   svm.LinearSVC(random_state=111).fit(   pca_2d, y_train)\n",
    "for i in range(0, pca_2d.shape[0]):\n",
    "    if y_train[i] == 2:\n",
    "     c1 = pl.scatter(pca_2d[i,0],pca_2d[i,1],c='2',    s=50,marker='+')\n",
    "    elif y_train[i] == 4:\n",
    "     c2 = pl.scatter(pca_2d[i,0],pca_2d[i,1],c='4',    s=50,marker='o')\n",
    "#elif y_train[i] == 2:\n",
    "# c3 = pl.scatter(pca_2d[i,0],pca_2d[i,1],c='b',    s=50,marker='*')\n",
    "pl.legend([c1, c2], ['Non malignant', 'Malignant'])\n",
    "x_min, x_max = pca_2d[:, 0].min() - 1,   pca_2d[:,0].max() + 1\n",
    "y_min, y_max = pca_2d[:, 1].min() - 1,   pca_2d[:, 1].max() + 1\n",
    "xx, yy = np.meshgrid(np.arange(x_min, x_max, .01),   np.arange(y_min, y_max, .01))\n",
    "Z = svmClassifier_2d.predict(np.c_[xx.ravel(),  yy.ravel()])\n",
    "Z = Z.reshape(xx.shape)\n",
    "pl.contour(xx, yy, Z)\n",
    "pl.title('Support Vector Machine Decision Surface')\n",
    "pl.axis('off')\n",
    "pl.show()"
   ]
  },
  {
   "cell_type": "code",
   "execution_count": null,
   "metadata": {},
   "outputs": [],
   "source": []
  }
 ],
 "metadata": {
  "kernelspec": {
   "display_name": "Python 2",
   "language": "python",
   "name": "python2"
  },
  "language_info": {
   "codemirror_mode": {
    "name": "ipython",
    "version": 2
   },
   "file_extension": ".py",
   "mimetype": "text/x-python",
   "name": "python",
   "nbconvert_exporter": "python",
   "pygments_lexer": "ipython2",
   "version": "2.7.15"
  }
 },
 "nbformat": 4,
 "nbformat_minor": 2
}
